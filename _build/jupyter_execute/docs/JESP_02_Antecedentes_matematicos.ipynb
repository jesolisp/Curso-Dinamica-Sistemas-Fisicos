{
 "cells": [
  {
   "cell_type": "markdown",
   "metadata": {},
   "source": [
    "# Antecedentes matemáticos\n",
    "\n",
    "## Álgebra Lineal.\n",
    "## Ecuaciones Diferenciales.\n",
    "## Transformada de Fourier. \n",
    "## Transformada de Laplace."
   ]
  }
 ],
 "metadata": {
  "language_info": {
   "name": "python"
  }
 },
 "nbformat": 4,
 "nbformat_minor": 2
}