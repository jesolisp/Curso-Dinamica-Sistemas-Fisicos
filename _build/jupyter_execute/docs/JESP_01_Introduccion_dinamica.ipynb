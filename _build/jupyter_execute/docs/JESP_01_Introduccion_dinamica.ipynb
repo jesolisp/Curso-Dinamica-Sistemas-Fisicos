{
 "cells": [
  {
   "cell_type": "markdown",
   "metadata": {},
   "source": [
    "# Introducción a la dinámica de los sistemas lineales\n",
    "\n",
    "## Conceptos básicos.\n",
    "## Modelos analíticos de estudio de sistemas."
   ]
  }
 ],
 "metadata": {
  "language_info": {
   "name": "python"
  }
 },
 "nbformat": 4,
 "nbformat_minor": 2
}