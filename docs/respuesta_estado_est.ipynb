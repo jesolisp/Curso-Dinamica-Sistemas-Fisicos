{
 "cells": [
  {
   "cell_type": "markdown",
   "id": "fe16bb49",
   "metadata": {},
   "source": [
    "# Respuesta de estado estacionario\n",
    "\n",
    "Considere un sistema entrada-salida lineal como se muestra en la siguiente expresión\n",
    "\n",
    "$$\n",
    " \\begin{aligned}\n",
    "  \\dot{x} &= Ax + Bu, \\\\\n",
    "  y &= Cx,\n",
    " \\end{aligned}\n",
    "$$\n",
    "donde su solución se puede obtener a partir de la ecuación de convolución\n",
    "\n",
    "$$\n",
    " y(t) = Ce^{At}x_{0} + \\int_{0}^{t}Ce^{A(t-\\tau)}Bu(\\tau) \\mathrm{d}\\tau.\n",
    "$$ (eqn:conv_eq)\n",
    "\n",
    "Como se puede observar, la respuesta del sistema depende de una condición inicial $x_{0}$ y una entrada $u$. Además, es posible observar que en esta expresión existen dos componentes: la *respuesta transitoria* y la *respuesta de estado estable*. La primera ocurre cuando se aplica una entrada y se observa  un desajuste entre la condición inicial y la solución de estado estable. La segunda refleja el comportamiento del sistema bajo las entradas dadas. En la {numref}`fig:step_response` podemos ver estos dos componentes en respuesta ante una entrada de tipo escalón unitario.\n",
    "\n",
    "````{note}\n",
    " En la práctica, se espera que si la entrada es periódica la respuesta también lo sea. Lo mismo con entradas constantes.\n",
    "````\n",
    "\n",
    "Un **escalón unitario**, **entrada escalón** o **escalón de Heaviside** es una función definida a pedazos como sigue\n",
    "\n",
    "$$\n",
    " u(t) = \\left\\{\n",
    "  \\begin{matrix}\n",
    "   0, & t = 0, \\\\\n",
    "   1, & t>0.\n",
    "  \\end{matrix}\n",
    " \\right.\n",
    "$$ (eqn:step_fcn)\n",
    "\n",
    "Definimos entonces como *respuesta escalonada* a la salida $y(t)$ a partir de una condición inicial en el punto de equilibrio del sistema y una entrada $u(t)$ de la forma {eq}`eqn:step_fcn`.\n",
    "\n",
    "```{figure} images/step_response.png\n",
    "---\n",
    "height: 300px\n",
    "name: fig:step_response\n",
    "---\n",
    "Respuesta del sistema ante una entrada tipo escalón. Se observa el tiempo de subida (*Rise time*), sobretiro (*Overshoot*), tiempo de asentamiento (*Settling time*) y valor en estado estable (*Steady-state value*).\n",
    "```\n",
    "\n",
    "Utilizando la ecuación de convolución \\eqref{eqn:conv_eq}, podemos calcular la respuesta ante una entrada tipo escalón considerando $x_{0}=0$. Entonces, tenemos\n",
    "\n",
    "$$\n",
    " \\begin{aligned}\n",
    "  y(t) &= \\int_{0}^{t}Ce^{A(t-\\tau)}Bu(\\tau)\\mathrm{d}\\tau = C\\int_{0}^{t}e^{A(t-\\tau)}B\\mathrm{d}\\tau, \\\\\n",
    "  &= C\\int_{0}^{t}e^{A\\sigma}B\\mathrm{d}\\sigma = C\\left.\\left(A^{-1}e^{A\\sigma}B \\right)\\right|^{\\sigma = t}_{\\sigma=0}, \\\\\n",
    "  &= CA^{-1}e^{At}B - CA^{-1}B,\n",
    " \\end{aligned}\n",
    "$$\n",
    "o bien\n",
    "\n",
    "$$\n",
    " y(t) = \\underbrace{CA^{-1}e^{At}B}_{\\text{transitorio}} \\underbrace{- CA^{-1}B}_{\\text{estado estable}}\n",
    "$$"
   ]
  },
  {
   "cell_type": "markdown",
   "id": "979e2ff0",
   "metadata": {
    "vscode": {
     "languageId": "plaintext"
    }
   },
   "source": [
    "# Velocidad de respuesta\n",
    "\n",
    "Definimos como rendimiento transitorio a la velocidad de respuesta o la velocidad en la que el sistema alcanza al estado estable. Generalmente se especifica en términos de tiempo de levantamiento (*rise time*), tiempo de asentamiento (*settling time*) y sobretiro (*overshoot*). El *tiempo de levantamiento* lo definimos como el tiempo requerido para la respuesta pase de 0 al 90% del valor en estado estacionario como se muestra en la {numref}`fig:step_response`. En otras palabras, buscamos el valor más pequeño $t_{r}$ tal que\n",
    "\n",
    "$$\n",
    " y\\left(t_{r}\\right) = 0.9y_{ss}\n",
    "$$\n",
    "donde $t_{s}$ denota el \\myindex{tiempo de asentamiento}. Es decir, el tiempo que le toma a la respuesta del sistema alcanzar y mantenerse dentro del $\\pm 2\\%$ de su valor en estado estable, o bien, el valor más pequeño $t_{s}$ tal que\n",
    "\n",
    "$$\n",
    " \\left|y - y_{ss} \\right| \\leq 0.02y_{ss}, \\quad \\forall~ t\\geq t_{ss}.\n",
    "$$\n",
    "\n",
    "Sea $y_{\\max}$ el valor máximo de $\\left|y(t) \\right|,~\\forall t\\geq 0$ o bien\n",
    "\n",
    "$$\n",
    " y_{\\max} := \\max\\left| y(t) \\right|,\n",
    "$$\n",
    "entonces el *sobretiro* se define como sigue\n",
    "\n",
    "$$\n",
    " M_{p} := \\frac{y_{\\max} - y_{ss}}{y_{ss}} \\times 100\\%.\n",
    "$$"
   ]
  }
 ],
 "metadata": {
  "language_info": {
   "name": "python"
  }
 },
 "nbformat": 4,
 "nbformat_minor": 5
}
