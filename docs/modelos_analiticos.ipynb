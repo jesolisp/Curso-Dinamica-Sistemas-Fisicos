{
 "cells": [
  {
   "cell_type": "markdown",
   "id": "62b983dd",
   "metadata": {},
   "source": [
    "# Modelos analíticos de estudio de sistemas\n",
    "\n",
    "**Modelo empírico**. Se obtiene a partir de las leyes físicas del sistema. Por ejemplo, las siguientes ecuaciones describen la zona líquida del flujo bifásico en un intercambiador de calor de doble tubo helicoidal\n",
    "\n",
    "* Ecuación de continuidad\n",
    "\n",
    "$$\n",
    " \\dot{m}_{i+1} = \\dot{m}_{i},\n",
    "$$\n",
    "\n",
    "$$\n",
    " v_{l_{i}} = \\left[\\frac{\\dot{m}_{i}}{\\rho_{l_{i}}A} \\right],\n",
    "$$\n",
    "\n",
    "$$\n",
    " v_{l_{i+1}} = \\left[\\frac{\\dot{m}_{i+1}}{\\rho_{l_{i+1}}A} \\right].\n",
    "$$\n",
    "\n",
    "* Ecuación de cantidad de movimiento\n",
    "\n",
    "$$\n",
    " p_{i+1} = p_{i} - \\frac{\\triangle z}{A} \\left( \\frac{\\Phi \\bar{f}\\bar{\\dot{m}} p}{8 \\bar{\\rho}A^{2}} + \\bar{\\rho} Ag\\sin(\\theta) + \\left[ \\frac{\\dot{m}\\left( x_{g}v_{g} + (1-x_{g})v_{l}\\right)}{\\triangle z} \\right]_{i}^{i+1} \\right).\n",
    "$$\n",
    "\n",
    "**Modelo analítico**. Es la representación matemática de un problema. Por ejemplo, la siguiente ecuación diferencial representa a un modelo para describir el crecimiento poblacional de ciertos organismos\n",
    "\n",
    "$$\n",
    " \\frac{\\mathrm{d} N(t)}{\\mathrm{d}t} = K \\cdot N(t) \\cdot \\ln{\\left( \\frac{A}{N(t)} \\right)}.\n",
    "$$"
   ]
  }
 ],
 "metadata": {
  "language_info": {
   "name": "python"
  }
 },
 "nbformat": 4,
 "nbformat_minor": 5
}
