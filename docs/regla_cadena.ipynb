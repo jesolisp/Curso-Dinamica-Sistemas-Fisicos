{
 "cells": [
  {
   "cell_type": "markdown",
   "id": "17f0aab5",
   "metadata": {},
   "source": [
    "# Regla de la cadena\n",
    "\n",
    "````{prf:theorem} Regla de la cadena\n",
    ":label: chain_rule\n",
    "\n",
    "Si $z:=f(x,y)$ tiene derivadas parciales continuas denotadas como $f_{x}$, $f_{y}$ y si $x = x(t)$ así como $y = y(t)$ son funciones diferenciables de $t$, entonces la composición $z = f\\left(x(t), y(t)\\right)$ es una función diferenciable de $t$ como sigue\n",
    "\n",
    "$$\n",
    " \\dot{f} = f_{x}\\left(x(t), y(t)\\right)\\cdot \\dot{x} + f_{y}\\left(x(t), y(t)\\right)\\cdot \\dot{y},\n",
    "$$\n",
    "o bien\n",
    "\n",
    "$$\n",
    " \\dot{z} = \\frac{\\partial f}{\\partial x}\\dot{x} + \\frac{\\partial f}{\\partial y}\\dot{y}.\n",
    "$$\n",
    "````"
   ]
  }
 ],
 "metadata": {
  "language_info": {
   "name": "python"
  }
 },
 "nbformat": 4,
 "nbformat_minor": 5
}
