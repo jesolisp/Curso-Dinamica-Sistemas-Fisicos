{
 "cells": [
  {
   "cell_type": "markdown",
   "id": "dcc3f198",
   "metadata": {},
   "source": [
    "# Otro tipo de sistemas\n",
    "\n",
    "Sistemas caóticos\n",
    "\n",
    "## Atractor de Lorenz\n",
    "\n",
    "$$\n",
    " \\begin{aligned}\n",
    "  \\dot{x} &= \\sigma\\left(y - x\\right), \\\\\n",
    "  \\dot{y} &= x\\left(\\rho - z\\right) - y, \\\\\n",
    "  \\dot{z} &= xy - \\beta z,\\\\\n",
    " \\end{aligned}\n",
    "$$\n",
    "\n",
    "\n",
    "## Modelo presa-depredador\n",
    "\n",
    "$$\n",
    " \\begin{aligned}\n",
    "  \\dot{x} &= \\alpha x - \\beta xy, \\\\\n",
    "  \\dot{y} &= \\delta xy - \\gamma y, \\\\\n",
    " \\end{aligned}\n",
    "$$"
   ]
  }
 ],
 "metadata": {
  "language_info": {
   "name": "python"
  }
 },
 "nbformat": 4,
 "nbformat_minor": 5
}
