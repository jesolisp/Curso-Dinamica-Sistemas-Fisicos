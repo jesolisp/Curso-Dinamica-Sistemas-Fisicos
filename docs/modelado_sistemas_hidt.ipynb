{
 "cells": [
  {
   "cell_type": "markdown",
   "id": "0aad2614",
   "metadata": {},
   "source": [
    "# Modelado de sistemas hidráulicos y térmicos\n",
    "\n",
    "```{figure} images/single_tank_system.png\n",
    "---\n",
    "height: 300px\n",
    "name: fig:single_tank_system\n",
    "---\n",
    "Modelo de un tanque.\n",
    "```\n",
    "\n",
    "```{figure} images/two_tanks_system.png\n",
    "---\n",
    "height: 400px\n",
    "name: fig:two_tanks_system\n",
    "---\n",
    "Modelo de dos tanques en cascada.\n",
    "```"
   ]
  }
 ],
 "metadata": {
  "language_info": {
   "name": "python"
  }
 },
 "nbformat": 4,
 "nbformat_minor": 5
}
